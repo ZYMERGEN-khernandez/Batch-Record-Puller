{
 "cells": [
  {
   "cell_type": "code",
   "execution_count": null,
   "id": "e7bfa218",
   "metadata": {},
   "outputs": [],
   "source": [
    "!pip install pandas\n",
    "!pip install openpyxl\n",
    "!pip install xlswriter\n",
    "!pip install xlrd"
   ]
  },
  {
   "cell_type": "code",
   "execution_count": null,
   "id": "845f1001",
   "metadata": {},
   "outputs": [],
   "source": [
    "import pandas as pd\n",
    "import os\n",
    "\n",
    "files = os.listdir()\n",
    "base = pd.read_excel('Batch record Template.xlsx')"
   ]
  },
  {
   "cell_type": "code",
   "execution_count": null,
   "id": "e46a5f52",
   "metadata": {},
   "outputs": [],
   "source": [
    "files =  os.listdir()\n",
    "count = 1\n",
    "count2 = 1\n",
    "loop = 3\n",
    "\n",
    "#Main Media Batch Records\n",
    "for i in files:\n",
    "    if 'Main Media' in i:\n",
    "        '''\n",
    "        mm_dispense = pd.read_excel(i,'Ferm Dispense',index_col=None,usecols='M:V')\n",
    "        display(mm_dispense)\n",
    "        '''\n",
    "        mm_recipe = pd.read_excel(i,'Ferm Recipe',usecols='L:O')\n",
    "        columns = mm_recipe.columns\n",
    "        for col in mm_recipe.columns:\n",
    "            if col == columns[-1]:\n",
    "                base.loc[7,count] = mm_recipe.loc[7,col]\n",
    "                base.loc[12,count] = mm_recipe.loc[10,col]\n",
    "                base.loc[19,count] = mm_recipe.loc[13,col]\n",
    "                count += 1\n",
    "            else:\n",
    "                for x in range(3):\n",
    "                    base.loc[7,count] = mm_recipe.loc[7,col]\n",
    "                    base.loc[12,count] = mm_recipe.loc[10,col]\n",
    "                    base.loc[19,count] = mm_recipe.loc[13,col]\n",
    "                    count += 1\n",
    "display(base)\n"
   ]
  },
  {
   "cell_type": "code",
   "execution_count": null,
   "id": "7a8b6021",
   "metadata": {},
   "outputs": [],
   "source": []
  }
 ],
 "metadata": {
  "kernelspec": {
   "display_name": "Python 3",
   "language": "python",
   "name": "python3"
  },
  "language_info": {
   "codemirror_mode": {
    "name": "ipython",
    "version": 3
   },
   "file_extension": ".py",
   "mimetype": "text/x-python",
   "name": "python",
   "nbconvert_exporter": "python",
   "pygments_lexer": "ipython3",
   "version": "3.9.4"
  }
 },
 "nbformat": 4,
 "nbformat_minor": 5
}
